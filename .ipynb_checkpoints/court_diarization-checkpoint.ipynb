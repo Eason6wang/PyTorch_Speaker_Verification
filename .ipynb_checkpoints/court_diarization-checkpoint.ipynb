{
 "cells": [
  {
   "cell_type": "code",
   "execution_count": 140,
   "metadata": {},
   "outputs": [],
   "source": [
    "import glob\n",
    "import librosa\n",
    "import numpy as np\n",
    "import os\n",
    "import torch\n",
    "\n",
    "from hparam import hparam as hp\n",
    "from speech_embedder_net import SpeechEmbedder\n",
    "from VAD_segments import VAD_chunk\n",
    "import scipy.stats as stats\n",
    "from dvector_create import concat_segs,get_STFTs, align_embeddings\n",
    "from dvector_vis import visualization\n",
    "import pandas\n",
    "from tqdm import tqdm"
   ]
  },
  {
   "cell_type": "code",
   "execution_count": 141,
   "metadata": {},
   "outputs": [],
   "source": [
    "### Initialization\n",
    "embedder_net = SpeechEmbedder()\n",
    "embedder_net.load_state_dict(torch.load('../ckpt/600_person_20_uter_epoch_120.pth'))\n",
    "embedder_net.eval()\n",
    "train_sequence = []\n",
    "train_cluster_id = []\n",
    "df = pandas.read_csv(\"/Users/junhengwang/coop/court_data/00081.csv\", delimiter=',')\n",
    "mp3_file = '/Users/junhengwang/coop/court_data/81.mp3'\n",
    "tmp_dir = './tmp/'\n",
    "os.makedirs(tmp_dir, exist_ok=True)"
   ]
  },
  {
   "cell_type": "code",
   "execution_count": 135,
   "metadata": {},
   "outputs": [],
   "source": [
    "### Generate ffmpeg commands\n",
    "ffm_file = open(tmp_dir + 'ffm_court.txt','w')\n",
    "for index, row in df.iterrows():\n",
    "    start = float(row['start_time'])\n",
    "    duration = float(row['stop_time']) - start \n",
    "    \n",
    "    audio_file = tmp_dir + str(index) + '.wav'\n",
    "    bashCommand = \"ffmpeg -ss \" + str(round(start,2)) + \" -t \" + str(round(duration,2)) + \" -i \" + mp3_file + ' -y -ar 16000 ' +  audio_file\n",
    "    ffm_file.write(bashCommand + '\\n')\n",
    "ffm_file.close()"
   ]
  },
  {
   "cell_type": "code",
   "execution_count": 142,
   "metadata": {},
   "outputs": [
    {
     "name": "stderr",
     "output_type": "stream",
     "text": [
      " 40%|████      | 18/45 [00:08<00:05,  4.59it/s]"
     ]
    },
    {
     "name": "stdout",
     "output_type": "stream",
     "text": [
      "No voice activity detected\n"
     ]
    },
    {
     "name": "stderr",
     "output_type": "stream",
     "text": [
      "100%|██████████| 45/45 [00:27<00:00,  1.61it/s]\n"
     ]
    }
   ],
   "source": [
    "### Create dvector for each audio\n",
    "for index, row in tqdm(df.iterrows(), total=df.shape[0]):\n",
    "    start = float(row['start_time'])\n",
    "    duration = float(row['stop_time']) - start\n",
    "    audio_file = 'tmp/' + str(index) + '.wav'\n",
    "    try:\n",
    "        times, segs = VAD_chunk(2, audio_file)\n",
    "    except:\n",
    "        print(audio_file + ' is broken')\n",
    "        continue\n",
    "    if segs == []:\n",
    "        print('No voice activity detected')\n",
    "        continue\n",
    "    concat_seg = concat_segs(times, segs)\n",
    "    STFT_frames = get_STFTs(concat_seg)\n",
    "    if not STFT_frames: \n",
    "        print('No STFT frames extracted')\n",
    "        continue\n",
    "    STFT_frames = np.stack(STFT_frames, axis=2)\n",
    "    STFT_frames = torch.tensor(np.transpose(STFT_frames, axes=(2,1,0)))\n",
    "    embeddings = embedder_net(STFT_frames)\n",
    "    aligned_embeddings = align_embeddings(embeddings.detach().numpy())\n",
    "    train_sequence.append(aligned_embeddings)\n",
    "    for embedding in aligned_embeddings:\n",
    "        train_cluster_id.append(row['speaker'])\n",
    "    ### save npz for visulization, may need to clean csv first\n",
    "    for index, emb in enumerate(aligned_embeddings):\n",
    "        save_path = tmp_dir + str(row['speaker']) + str(index) + '.npz'\n",
    "        save_sequence = np.array([emb])\n",
    "        save_id = np.array([row['speaker']] * len(aligned_embeddings))\n",
    "        np.savez(save_path, train_sequence=save_sequence, train_cluster_id=np.array([row['speaker']]))\n",
    "        with open(tmp_dir + \"visualization.csv\",\"a+\") as vis:\n",
    "            vis.write(save_path + '\\n')\n",
    "\n"
   ]
  },
  {
   "cell_type": "code",
   "execution_count": 143,
   "metadata": {},
   "outputs": [
    {
     "name": "stdout",
     "output_type": "stream",
     "text": [
      "(816, 256)\n",
      "(816,)\n"
     ]
    }
   ],
   "source": [
    "### Saving dvectors\n",
    "train_sequence = np.concatenate(train_sequence,axis=0)\n",
    "train_cluster_id = np.asarray(train_cluster_id)\n",
    "np.save('court_test_sequence',train_sequence)\n",
    "np.save('court_test_cluster_id',train_cluster_id)\n",
    "print(train_sequence.shape)\n",
    "print(train_cluster_id.shape)\n"
   ]
  },
  {
   "cell_type": "code",
   "execution_count": 144,
   "metadata": {},
   "outputs": [
    {
     "name": "stdout",
     "output_type": "stream",
     "text": [
      "#1 testing:\n",
      "Num of true labels:4\n",
      "Num of predicted labels:2\n",
      "Accuracy:0.9117647058823529\n"
     ]
    }
   ],
   "source": [
    "### Spectral Clustering\n",
    "from spectralcluster import SpectralClusterer\n",
    "import numpy as np\n",
    "import uisrnn\n",
    "\n",
    "test_sequences = np.load('court_test_sequence.npy')\n",
    "test_cluster_ids = np.load('court_test_cluster_id.npy')\n",
    "test_size = 2000\n",
    "test_sequences = np.array([np.array(test_sequences[i:i + test_size]) for i in range(0, len(test_sequences), test_size)])\n",
    "test_cluster_ids = [list(test_cluster_ids[i:i + test_size]) for i in range(0,len(test_cluster_ids),test_size)]\n",
    "index = 1\n",
    "for sequence, cluster_ids in zip(test_sequences, test_cluster_ids):\n",
    "    print(\"#\" + str(index) + \" testing:\")\n",
    "    print(\"Num of true labels:\" + str(len(set(cluster_ids))))\n",
    "    clusterer = SpectralClusterer(min_clusters=2,max_clusters=100,p_percentile=0.96,gaussian_blur_sigma=2)\n",
    "    labels = clusterer.predict(sequence)\n",
    "    print(\"Num of predicted labels:\" + str(len(set(labels))))\n",
    "    print(\"Accuracy:\" + str(uisrnn.compute_sequence_match_accuracy(list(cluster_ids), list(labels))))\n",
    "    index += 1\n"
   ]
  },
  {
   "cell_type": "code",
   "execution_count": 145,
   "metadata": {},
   "outputs": [
    {
     "name": "stderr",
     "output_type": "stream",
     "text": [
      "  9%|▉         | 77/816 [00:00<00:00, 766.72it/s]"
     ]
    },
    {
     "name": "stdout",
     "output_type": "stream",
     "text": [
      "./court/visualization.csv\n"
     ]
    },
    {
     "name": "stderr",
     "output_type": "stream",
     "text": [
      "100%|██████████| 816/816 [00:00<00:00, 778.15it/s]\n"
     ]
    },
    {
     "name": "stdout",
     "output_type": "stream",
     "text": [
      "==> Finish loading\n",
      "==> Finish pca\n",
      "[t-SNE] Computing 121 nearest neighbors...\n",
      "[t-SNE] Indexed 816 samples in 0.005s...\n",
      "[t-SNE] Computed neighbors for 816 samples in 0.296s...\n",
      "[t-SNE] Computed conditional probabilities for sample 816 / 816\n",
      "[t-SNE] Mean sigma: 0.022432\n",
      "[t-SNE] KL divergence after 250 iterations with early exaggeration: 50.704060\n",
      "[t-SNE] KL divergence after 300 iterations: 0.189610\n",
      "<class 'numpy.ndarray'>\n",
      "==> Finish tsne\n"
     ]
    },
    {
     "name": "stderr",
     "output_type": "stream",
     "text": [
      "/usr/local/lib/python3.7/site-packages/seaborn/regression.py:546: UserWarning: The `size` paramter has been renamed to `height`; please update your code.\n",
      "  warnings.warn(msg, UserWarning)\n"
     ]
    },
    {
     "data": {
      "image/png": "[encoded data removed]",
      "text/plain": [
       "<Figure size 767x648 with 1 Axes>"
      ]
     },
     "metadata": {
      "needs_background": "light"
     },
     "output_type": "display_data"
    }
   ],
   "source": [
    "visualization('./court/visualization.csv', 7000)"
   ]
  },
  {
   "cell_type": "code",
   "execution_count": null,
   "metadata": {},
   "outputs": [],
   "source": []
  }
 ],
 "metadata": {
  "kernelspec": {
   "display_name": "Python 3",
   "language": "python",
   "name": "python3"
  },
  "language_info": {
   "codemirror_mode": {
    "name": "ipython",
    "version": 3
   },
   "file_extension": ".py",
   "mimetype": "text/x-python",
   "name": "python",
   "nbconvert_exporter": "python",
   "pygments_lexer": "ipython3",
   "version": "3.7.2"
  }
 },
 "nbformat": 4,
 "nbformat_minor": 2
}
